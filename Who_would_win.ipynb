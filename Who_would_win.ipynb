{
  "nbformat": 4,
  "nbformat_minor": 0,
  "metadata": {
    "colab": {
      "name": "Who would win.ipynb",
      "provenance": [],
      "collapsed_sections": [
        "u7XVViyDn7S-",
        "5H8tNqCE5lXl",
        "1jPpwfcq863f",
        "CUmaQPh6-NLF",
        "lh2RauP7fguh"
      ],
      "include_colab_link": true
    },
    "kernelspec": {
      "name": "python3",
      "display_name": "Python 3"
    }
  },
  "cells": [
    {
      "cell_type": "markdown",
      "metadata": {
        "id": "view-in-github",
        "colab_type": "text"
      },
      "source": [
        "<a href=\"https://colab.research.google.com/github/leminhviett/Who-would-win-the-Olympics/blob/master/Who_would_win.ipynb\" target=\"_parent\"><img src=\"https://colab.research.google.com/assets/colab-badge.svg\" alt=\"Open In Colab\"/></a>"
      ]
    },
    {
      "cell_type": "code",
      "metadata": {
        "id": "Q2_uHFnRrWRD",
        "colab_type": "code",
        "outputId": "1aa8d2e5-7ca6-419c-cd5b-b75b893f7b86",
        "colab": {
          "base_uri": "https://localhost:8080/",
          "height": 87
        }
      },
      "source": [
        "import matplotlib.pyplot as plt\n",
        "import seaborn as sb\n",
        "import pandas as pd \n",
        "import numpy as np\n",
        "\n",
        "import xgboost\n",
        "from sklearn.preprocessing import Imputer\n",
        "from sklearn.preprocessing import LabelEncoder\n",
        "from sklearn.metrics import accuracy_score, confusion_matrix, recall_score, precision_score\n",
        "from imblearn.over_sampling import SMOTE\n",
        "from sklearn.model_selection import train_test_split\n",
        "from sklearn.ensemble import RandomForestClassifier\n",
        "from sklearn.naive_bayes import GaussianNB\n",
        "from sklearn.utils import class_weight\n",
        "\n",
        "\n",
        "\n",
        "sb.set()\n",
        "%matplotlib inline\n",
        "\n",
        "from google.colab import drive\n",
        "drive.mount('/content/drive')\n"
      ],
      "execution_count": 0,
      "outputs": [
        {
          "output_type": "stream",
          "text": [
            "Drive already mounted at /content/drive; to attempt to forcibly remount, call drive.mount(\"/content/drive\", force_remount=True).\n"
          ],
          "name": "stdout"
        },
        {
          "output_type": "stream",
          "text": [
            "/usr/local/lib/python3.6/dist-packages/sklearn/externals/six.py:31: DeprecationWarning: The module is deprecated in version 0.21 and will be removed in version 0.23 since we've dropped support for Python 2.7. Please rely on the official version of six (https://pypi.org/project/six/).\n",
            "  \"(https://pypi.org/project/six/).\", DeprecationWarning)\n"
          ],
          "name": "stderr"
        }
      ]
    },
    {
      "cell_type": "code",
      "metadata": {
        "id": "Zwsnyr9t8Hua",
        "colab_type": "code",
        "colab": {}
      },
      "source": [
        "import warnings\n",
        "warnings.filterwarnings('ignore')"
      ],
      "execution_count": 0,
      "outputs": []
    },
    {
      "cell_type": "markdown",
      "metadata": {
        "id": "u7XVViyDn7S-",
        "colab_type": "text"
      },
      "source": [
        "# Le Minh Viet part\n",
        "\n",
        "\n",
        "1.   Data exploration & Data understading\n",
        "2.   Data pre-process:\n",
        "\n",
        "        * Encoding categorical data\n",
        "        \n",
        "        * Clean & clear data\n",
        "3.   Machine Learning:\n",
        "        * Try different machine learning models\n",
        "        * Visualize results of each model on imbalanced & balanced dataset\n",
        "        * Find out the best model for individual sport\n",
        "\n"
      ]
    },
    {
      "cell_type": "markdown",
      "metadata": {
        "id": "chmgPuR5rvBE",
        "colab_type": "text"
      },
      "source": [
        "\n",
        "## 1. Import data\n"
      ]
    },
    {
      "cell_type": "code",
      "metadata": {
        "id": "6UFuvslDrbU7",
        "colab_type": "code",
        "colab": {}
      },
      "source": [
        "athlete = pd.read_csv(\"/content/drive/My Drive/data/athlete_events.csv\")\n",
        "regions = pd.read_csv(\"/content/drive/My Drive/data/noc_regions.csv\")\n",
        "raw_data = pd.merge(athlete, regions, on='NOC', how='left')"
      ],
      "execution_count": 0,
      "outputs": []
    },
    {
      "cell_type": "code",
      "metadata": {
        "id": "hL2yOdMzr7Sh",
        "colab_type": "code",
        "outputId": "6a530e4e-4b41-4cb7-bc37-47ad555ba7f5",
        "colab": {
          "base_uri": "https://localhost:8080/",
          "height": 386
        }
      },
      "source": [
        "raw_data.info()"
      ],
      "execution_count": 0,
      "outputs": [
        {
          "output_type": "stream",
          "text": [
            "<class 'pandas.core.frame.DataFrame'>\n",
            "Int64Index: 271116 entries, 0 to 271115\n",
            "Data columns (total 17 columns):\n",
            "ID        271116 non-null int64\n",
            "Name      271116 non-null object\n",
            "Sex       271116 non-null object\n",
            "Age       261642 non-null float64\n",
            "Height    210945 non-null float64\n",
            "Weight    208241 non-null float64\n",
            "Team      271116 non-null object\n",
            "NOC       271116 non-null object\n",
            "Games     271116 non-null object\n",
            "Year      271116 non-null int64\n",
            "Season    271116 non-null object\n",
            "City      271116 non-null object\n",
            "Sport     271116 non-null object\n",
            "Event     271116 non-null object\n",
            "Medal     39783 non-null object\n",
            "region    270746 non-null object\n",
            "notes     5039 non-null object\n",
            "dtypes: float64(3), int64(2), object(12)\n",
            "memory usage: 37.2+ MB\n"
          ],
          "name": "stdout"
        }
      ]
    },
    {
      "cell_type": "code",
      "metadata": {
        "id": "TJ3GFWRssSb4",
        "colab_type": "code",
        "outputId": "d7c94591-029c-4c43-c949-0272aebc0fdf",
        "colab": {
          "base_uri": "https://localhost:8080/",
          "height": 279
        }
      },
      "source": [
        "raw_data.head(5)"
      ],
      "execution_count": 0,
      "outputs": [
        {
          "output_type": "execute_result",
          "data": {
            "text/html": [
              "<div>\n",
              "<style scoped>\n",
              "    .dataframe tbody tr th:only-of-type {\n",
              "        vertical-align: middle;\n",
              "    }\n",
              "\n",
              "    .dataframe tbody tr th {\n",
              "        vertical-align: top;\n",
              "    }\n",
              "\n",
              "    .dataframe thead th {\n",
              "        text-align: right;\n",
              "    }\n",
              "</style>\n",
              "<table border=\"1\" class=\"dataframe\">\n",
              "  <thead>\n",
              "    <tr style=\"text-align: right;\">\n",
              "      <th></th>\n",
              "      <th>ID</th>\n",
              "      <th>Name</th>\n",
              "      <th>Sex</th>\n",
              "      <th>Age</th>\n",
              "      <th>Height</th>\n",
              "      <th>Weight</th>\n",
              "      <th>Team</th>\n",
              "      <th>NOC</th>\n",
              "      <th>Games</th>\n",
              "      <th>Year</th>\n",
              "      <th>Season</th>\n",
              "      <th>City</th>\n",
              "      <th>Sport</th>\n",
              "      <th>Event</th>\n",
              "      <th>Medal</th>\n",
              "      <th>region</th>\n",
              "      <th>notes</th>\n",
              "    </tr>\n",
              "  </thead>\n",
              "  <tbody>\n",
              "    <tr>\n",
              "      <th>0</th>\n",
              "      <td>1</td>\n",
              "      <td>A Dijiang</td>\n",
              "      <td>M</td>\n",
              "      <td>24.0</td>\n",
              "      <td>180.0</td>\n",
              "      <td>80.0</td>\n",
              "      <td>China</td>\n",
              "      <td>CHN</td>\n",
              "      <td>1992 Summer</td>\n",
              "      <td>1992</td>\n",
              "      <td>Summer</td>\n",
              "      <td>Barcelona</td>\n",
              "      <td>Basketball</td>\n",
              "      <td>Basketball Men's Basketball</td>\n",
              "      <td>NaN</td>\n",
              "      <td>China</td>\n",
              "      <td>NaN</td>\n",
              "    </tr>\n",
              "    <tr>\n",
              "      <th>1</th>\n",
              "      <td>2</td>\n",
              "      <td>A Lamusi</td>\n",
              "      <td>M</td>\n",
              "      <td>23.0</td>\n",
              "      <td>170.0</td>\n",
              "      <td>60.0</td>\n",
              "      <td>China</td>\n",
              "      <td>CHN</td>\n",
              "      <td>2012 Summer</td>\n",
              "      <td>2012</td>\n",
              "      <td>Summer</td>\n",
              "      <td>London</td>\n",
              "      <td>Judo</td>\n",
              "      <td>Judo Men's Extra-Lightweight</td>\n",
              "      <td>NaN</td>\n",
              "      <td>China</td>\n",
              "      <td>NaN</td>\n",
              "    </tr>\n",
              "    <tr>\n",
              "      <th>2</th>\n",
              "      <td>3</td>\n",
              "      <td>Gunnar Nielsen Aaby</td>\n",
              "      <td>M</td>\n",
              "      <td>24.0</td>\n",
              "      <td>NaN</td>\n",
              "      <td>NaN</td>\n",
              "      <td>Denmark</td>\n",
              "      <td>DEN</td>\n",
              "      <td>1920 Summer</td>\n",
              "      <td>1920</td>\n",
              "      <td>Summer</td>\n",
              "      <td>Antwerpen</td>\n",
              "      <td>Football</td>\n",
              "      <td>Football Men's Football</td>\n",
              "      <td>NaN</td>\n",
              "      <td>Denmark</td>\n",
              "      <td>NaN</td>\n",
              "    </tr>\n",
              "    <tr>\n",
              "      <th>3</th>\n",
              "      <td>4</td>\n",
              "      <td>Edgar Lindenau Aabye</td>\n",
              "      <td>M</td>\n",
              "      <td>34.0</td>\n",
              "      <td>NaN</td>\n",
              "      <td>NaN</td>\n",
              "      <td>Denmark/Sweden</td>\n",
              "      <td>DEN</td>\n",
              "      <td>1900 Summer</td>\n",
              "      <td>1900</td>\n",
              "      <td>Summer</td>\n",
              "      <td>Paris</td>\n",
              "      <td>Tug-Of-War</td>\n",
              "      <td>Tug-Of-War Men's Tug-Of-War</td>\n",
              "      <td>Gold</td>\n",
              "      <td>Denmark</td>\n",
              "      <td>NaN</td>\n",
              "    </tr>\n",
              "    <tr>\n",
              "      <th>4</th>\n",
              "      <td>5</td>\n",
              "      <td>Christine Jacoba Aaftink</td>\n",
              "      <td>F</td>\n",
              "      <td>21.0</td>\n",
              "      <td>185.0</td>\n",
              "      <td>82.0</td>\n",
              "      <td>Netherlands</td>\n",
              "      <td>NED</td>\n",
              "      <td>1988 Winter</td>\n",
              "      <td>1988</td>\n",
              "      <td>Winter</td>\n",
              "      <td>Calgary</td>\n",
              "      <td>Speed Skating</td>\n",
              "      <td>Speed Skating Women's 500 metres</td>\n",
              "      <td>NaN</td>\n",
              "      <td>Netherlands</td>\n",
              "      <td>NaN</td>\n",
              "    </tr>\n",
              "  </tbody>\n",
              "</table>\n",
              "</div>"
            ],
            "text/plain": [
              "   ID                      Name Sex  ...  Medal       region  notes\n",
              "0   1                 A Dijiang   M  ...    NaN        China    NaN\n",
              "1   2                  A Lamusi   M  ...    NaN        China    NaN\n",
              "2   3       Gunnar Nielsen Aaby   M  ...    NaN      Denmark    NaN\n",
              "3   4      Edgar Lindenau Aabye   M  ...   Gold      Denmark    NaN\n",
              "4   5  Christine Jacoba Aaftink   F  ...    NaN  Netherlands    NaN\n",
              "\n",
              "[5 rows x 17 columns]"
            ]
          },
          "metadata": {
            "tags": []
          },
          "execution_count": 5
        }
      ]
    },
    {
      "cell_type": "code",
      "metadata": {
        "id": "ImY6p2mL0wP7",
        "colab_type": "code",
        "outputId": "38ca774a-2f91-4d97-c53b-262ad82d4ac6",
        "colab": {
          "base_uri": "https://localhost:8080/",
          "height": 284
        }
      },
      "source": [
        "raw_data.describe()"
      ],
      "execution_count": 0,
      "outputs": [
        {
          "output_type": "execute_result",
          "data": {
            "text/html": [
              "<div>\n",
              "<style scoped>\n",
              "    .dataframe tbody tr th:only-of-type {\n",
              "        vertical-align: middle;\n",
              "    }\n",
              "\n",
              "    .dataframe tbody tr th {\n",
              "        vertical-align: top;\n",
              "    }\n",
              "\n",
              "    .dataframe thead th {\n",
              "        text-align: right;\n",
              "    }\n",
              "</style>\n",
              "<table border=\"1\" class=\"dataframe\">\n",
              "  <thead>\n",
              "    <tr style=\"text-align: right;\">\n",
              "      <th></th>\n",
              "      <th>ID</th>\n",
              "      <th>Age</th>\n",
              "      <th>Height</th>\n",
              "      <th>Weight</th>\n",
              "      <th>Year</th>\n",
              "    </tr>\n",
              "  </thead>\n",
              "  <tbody>\n",
              "    <tr>\n",
              "      <th>count</th>\n",
              "      <td>271116.000000</td>\n",
              "      <td>261642.000000</td>\n",
              "      <td>210945.000000</td>\n",
              "      <td>208241.000000</td>\n",
              "      <td>271116.000000</td>\n",
              "    </tr>\n",
              "    <tr>\n",
              "      <th>mean</th>\n",
              "      <td>68248.954396</td>\n",
              "      <td>25.556898</td>\n",
              "      <td>175.338970</td>\n",
              "      <td>70.702393</td>\n",
              "      <td>1978.378480</td>\n",
              "    </tr>\n",
              "    <tr>\n",
              "      <th>std</th>\n",
              "      <td>39022.286345</td>\n",
              "      <td>6.393561</td>\n",
              "      <td>10.518462</td>\n",
              "      <td>14.348020</td>\n",
              "      <td>29.877632</td>\n",
              "    </tr>\n",
              "    <tr>\n",
              "      <th>min</th>\n",
              "      <td>1.000000</td>\n",
              "      <td>10.000000</td>\n",
              "      <td>127.000000</td>\n",
              "      <td>25.000000</td>\n",
              "      <td>1896.000000</td>\n",
              "    </tr>\n",
              "    <tr>\n",
              "      <th>25%</th>\n",
              "      <td>34643.000000</td>\n",
              "      <td>21.000000</td>\n",
              "      <td>168.000000</td>\n",
              "      <td>60.000000</td>\n",
              "      <td>1960.000000</td>\n",
              "    </tr>\n",
              "    <tr>\n",
              "      <th>50%</th>\n",
              "      <td>68205.000000</td>\n",
              "      <td>24.000000</td>\n",
              "      <td>175.000000</td>\n",
              "      <td>70.000000</td>\n",
              "      <td>1988.000000</td>\n",
              "    </tr>\n",
              "    <tr>\n",
              "      <th>75%</th>\n",
              "      <td>102097.250000</td>\n",
              "      <td>28.000000</td>\n",
              "      <td>183.000000</td>\n",
              "      <td>79.000000</td>\n",
              "      <td>2002.000000</td>\n",
              "    </tr>\n",
              "    <tr>\n",
              "      <th>max</th>\n",
              "      <td>135571.000000</td>\n",
              "      <td>97.000000</td>\n",
              "      <td>226.000000</td>\n",
              "      <td>214.000000</td>\n",
              "      <td>2016.000000</td>\n",
              "    </tr>\n",
              "  </tbody>\n",
              "</table>\n",
              "</div>"
            ],
            "text/plain": [
              "                  ID            Age  ...         Weight           Year\n",
              "count  271116.000000  261642.000000  ...  208241.000000  271116.000000\n",
              "mean    68248.954396      25.556898  ...      70.702393    1978.378480\n",
              "std     39022.286345       6.393561  ...      14.348020      29.877632\n",
              "min         1.000000      10.000000  ...      25.000000    1896.000000\n",
              "25%     34643.000000      21.000000  ...      60.000000    1960.000000\n",
              "50%     68205.000000      24.000000  ...      70.000000    1988.000000\n",
              "75%    102097.250000      28.000000  ...      79.000000    2002.000000\n",
              "max    135571.000000      97.000000  ...     214.000000    2016.000000\n",
              "\n",
              "[8 rows x 5 columns]"
            ]
          },
          "metadata": {
            "tags": []
          },
          "execution_count": 6
        }
      ]
    },
    {
      "cell_type": "markdown",
      "metadata": {
        "id": "ekdGsmMvsH-P",
        "colab_type": "text"
      },
      "source": [
        "## 2. Pre-process Data"
      ]
    },
    {
      "cell_type": "markdown",
      "metadata": {
        "id": "Xzs426mosQfr",
        "colab_type": "text"
      },
      "source": [
        "\n",
        "\n",
        "1.   Replace NA of Height, Age, Weight by its Median\n",
        "2.   Encode all sports as 0,1,2,3...\n",
        "3.   Encode Gold, Silver, Bronze, NA as 3, 2, 1,\n",
        "4.   Encode Sex & Season as 0, 1\n",
        "5.   Region we have to use special function to encode.\n",
        "\n",
        "     **Point of each region = (#gold * 3 + #silver * 2 + #bronze) / (sum of all Medal)**\n",
        "\n",
        "     This point reflects of competency of each region in the past\n",
        "\n",
        "\n"
      ]
    },
    {
      "cell_type": "code",
      "metadata": {
        "id": "LODwofBysKiM",
        "colab_type": "code",
        "colab": {}
      },
      "source": [
        "pre_process = raw_data.copy()\n",
        "pre_process = pd.DataFrame(pre_process[[\"Sex\", \"Age\", \"Height\", \"Weight\", \"Season\", \"Sport\", \"Medal\", \"Year\",\"region\"]])\n"
      ],
      "execution_count": 0,
      "outputs": []
    },
    {
      "cell_type": "code",
      "metadata": {
        "id": "mewH9x83sP14",
        "colab_type": "code",
        "colab": {}
      },
      "source": [
        "imputer = Imputer(strategy=\"median\")\n",
        "imputer.fit(pd.DataFrame(pre_process[[\"Age\", \"Height\", \"Weight\"]])) # calculate median of all attributes\n",
        "median = imputer.statistics_# store into statistics_; may be we use latter\n",
        "\n",
        "temp = imputer.transform(pd.DataFrame(pre_process[[\"Age\", \"Height\", \"Weight\"]]))\n",
        "pre_process[[\"Age\", \"Height\", \"Weight\"]] = pd.DataFrame(temp)\n",
        "\n",
        "sport = LabelEncoder()\n",
        "season = LabelEncoder()\n",
        "pre_process['Sport'] = sport.fit_transform(pre_process['Sport'])\n",
        "pre_process['Season'] = season.fit_transform(pre_process['Season'])\n",
        "\n",
        "pre_process[\"Medal\"].fillna(0, inplace = True)\n",
        "pre_process = pre_process.replace(to_replace = [\"Gold\", \"Silver\", \"Bronze\", \"M\", \"F\"],value = [3,2,1, 1, 0])\n"
      ],
      "execution_count": 0,
      "outputs": []
    },
    {
      "cell_type": "code",
      "metadata": {
        "id": "vAkQsFxeteCS",
        "colab_type": "code",
        "outputId": "890ae610-6664-4687-cc69-ce2e4dc71309",
        "colab": {
          "base_uri": "https://localhost:8080/",
          "height": 252
        }
      },
      "source": [
        "pre_process.info()"
      ],
      "execution_count": 0,
      "outputs": [
        {
          "output_type": "stream",
          "text": [
            "<class 'pandas.core.frame.DataFrame'>\n",
            "Int64Index: 271116 entries, 0 to 271115\n",
            "Data columns (total 9 columns):\n",
            "Sex       271116 non-null int64\n",
            "Age       271116 non-null float64\n",
            "Height    271116 non-null float64\n",
            "Weight    271116 non-null float64\n",
            "Season    271116 non-null int64\n",
            "Sport     271116 non-null int64\n",
            "Medal     271116 non-null int64\n",
            "Year      271116 non-null int64\n",
            "region    270746 non-null object\n",
            "dtypes: float64(3), int64(5), object(1)\n",
            "memory usage: 20.7+ MB\n"
          ],
          "name": "stdout"
        }
      ]
    },
    {
      "cell_type": "code",
      "metadata": {
        "id": "W529lhentjWn",
        "colab_type": "code",
        "colab": {}
      },
      "source": [
        "competency = pd.DataFrame(pre_process.loc[pre_process[\"Year\"] <= 2006]) # use only data be4 2005 to get the competency point. its 70% data\n",
        "\n",
        "for i in pre_process.region.unique():\n",
        "  country = competency.loc[competency[\"region\"] == i]\n",
        "  g = country.loc[country[\"Medal\"] == 3]\n",
        "  s = country.loc[country[\"Medal\"] == 2]\n",
        "  b = country.loc[country[\"Medal\"] == 1]\n",
        "  na = country.loc[country[\"Medal\"] == 0]\n",
        "\n",
        "  point = g.shape[0]*30 + s.shape[0]*20 + b.shape[0]*10\n",
        "  try:\n",
        "    point = point/(g.shape[0] + s.shape[0] + b.shape[0] + na.shape[0])\n",
        "  except ZeroDivisionError:\n",
        "    pre_process.loc[pre_process['region'] == i, 'region_point'] = 0\n",
        "    continue\n",
        "  pre_process.loc[pre_process['region'] == i, 'region_point'] = point\n"
      ],
      "execution_count": 0,
      "outputs": []
    },
    {
      "cell_type": "code",
      "metadata": {
        "id": "JOT2DSIlx4dO",
        "colab_type": "code",
        "outputId": "b087517b-d4ac-4772-a78d-6e16faa0962f",
        "colab": {
          "base_uri": "https://localhost:8080/",
          "height": 269
        }
      },
      "source": [
        "pre_process.info()"
      ],
      "execution_count": 0,
      "outputs": [
        {
          "output_type": "stream",
          "text": [
            "<class 'pandas.core.frame.DataFrame'>\n",
            "Int64Index: 271116 entries, 0 to 271115\n",
            "Data columns (total 10 columns):\n",
            "Sex             271116 non-null int64\n",
            "Age             271116 non-null float64\n",
            "Height          271116 non-null float64\n",
            "Weight          271116 non-null float64\n",
            "Season          271116 non-null int64\n",
            "Sport           271116 non-null int64\n",
            "Medal           271116 non-null int64\n",
            "Year            271116 non-null int64\n",
            "region          270746 non-null object\n",
            "region_point    270746 non-null float64\n",
            "dtypes: float64(4), int64(5), object(1)\n",
            "memory usage: 22.8+ MB\n"
          ],
          "name": "stdout"
        }
      ]
    },
    {
      "cell_type": "code",
      "metadata": {
        "id": "kgmkGXRMx7mT",
        "colab_type": "code",
        "colab": {}
      },
      "source": [
        "pre_process = pre_process.dropna()"
      ],
      "execution_count": 0,
      "outputs": []
    },
    {
      "cell_type": "code",
      "metadata": {
        "id": "Y5f3ZzcgyEk4",
        "colab_type": "code",
        "outputId": "60c74efb-332a-495a-8a36-ad3edc43ead0",
        "colab": {
          "base_uri": "https://localhost:8080/",
          "height": 195
        }
      },
      "source": [
        "pre_process.head(5)"
      ],
      "execution_count": 0,
      "outputs": [
        {
          "output_type": "execute_result",
          "data": {
            "text/html": [
              "<div>\n",
              "<style scoped>\n",
              "    .dataframe tbody tr th:only-of-type {\n",
              "        vertical-align: middle;\n",
              "    }\n",
              "\n",
              "    .dataframe tbody tr th {\n",
              "        vertical-align: top;\n",
              "    }\n",
              "\n",
              "    .dataframe thead th {\n",
              "        text-align: right;\n",
              "    }\n",
              "</style>\n",
              "<table border=\"1\" class=\"dataframe\">\n",
              "  <thead>\n",
              "    <tr style=\"text-align: right;\">\n",
              "      <th></th>\n",
              "      <th>Sex</th>\n",
              "      <th>Age</th>\n",
              "      <th>Height</th>\n",
              "      <th>Weight</th>\n",
              "      <th>Season</th>\n",
              "      <th>Sport</th>\n",
              "      <th>Medal</th>\n",
              "      <th>Year</th>\n",
              "      <th>region</th>\n",
              "      <th>region_point</th>\n",
              "    </tr>\n",
              "  </thead>\n",
              "  <tbody>\n",
              "    <tr>\n",
              "      <th>0</th>\n",
              "      <td>1</td>\n",
              "      <td>24.0</td>\n",
              "      <td>180.0</td>\n",
              "      <td>80.0</td>\n",
              "      <td>0</td>\n",
              "      <td>8</td>\n",
              "      <td>0</td>\n",
              "      <td>1992</td>\n",
              "      <td>China</td>\n",
              "      <td>2.906946</td>\n",
              "    </tr>\n",
              "    <tr>\n",
              "      <th>1</th>\n",
              "      <td>1</td>\n",
              "      <td>23.0</td>\n",
              "      <td>170.0</td>\n",
              "      <td>60.0</td>\n",
              "      <td>0</td>\n",
              "      <td>32</td>\n",
              "      <td>0</td>\n",
              "      <td>2012</td>\n",
              "      <td>China</td>\n",
              "      <td>2.906946</td>\n",
              "    </tr>\n",
              "    <tr>\n",
              "      <th>2</th>\n",
              "      <td>1</td>\n",
              "      <td>24.0</td>\n",
              "      <td>175.0</td>\n",
              "      <td>70.0</td>\n",
              "      <td>0</td>\n",
              "      <td>24</td>\n",
              "      <td>0</td>\n",
              "      <td>1920</td>\n",
              "      <td>Denmark</td>\n",
              "      <td>3.352490</td>\n",
              "    </tr>\n",
              "    <tr>\n",
              "      <th>3</th>\n",
              "      <td>1</td>\n",
              "      <td>34.0</td>\n",
              "      <td>175.0</td>\n",
              "      <td>70.0</td>\n",
              "      <td>0</td>\n",
              "      <td>61</td>\n",
              "      <td>3</td>\n",
              "      <td>1900</td>\n",
              "      <td>Denmark</td>\n",
              "      <td>3.352490</td>\n",
              "    </tr>\n",
              "    <tr>\n",
              "      <th>4</th>\n",
              "      <td>0</td>\n",
              "      <td>21.0</td>\n",
              "      <td>185.0</td>\n",
              "      <td>82.0</td>\n",
              "      <td>1</td>\n",
              "      <td>53</td>\n",
              "      <td>0</td>\n",
              "      <td>1988</td>\n",
              "      <td>Netherlands</td>\n",
              "      <td>3.056814</td>\n",
              "    </tr>\n",
              "  </tbody>\n",
              "</table>\n",
              "</div>"
            ],
            "text/plain": [
              "   Sex   Age  Height  Weight  ...  Medal  Year       region  region_point\n",
              "0    1  24.0   180.0    80.0  ...      0  1992        China      2.906946\n",
              "1    1  23.0   170.0    60.0  ...      0  2012        China      2.906946\n",
              "2    1  24.0   175.0    70.0  ...      0  1920      Denmark      3.352490\n",
              "3    1  34.0   175.0    70.0  ...      3  1900      Denmark      3.352490\n",
              "4    0  21.0   185.0    82.0  ...      0  1988  Netherlands      3.056814\n",
              "\n",
              "[5 rows x 10 columns]"
            ]
          },
          "metadata": {
            "tags": []
          },
          "execution_count": 13
        }
      ]
    },
    {
      "cell_type": "code",
      "metadata": {
        "id": "so0bxgXJyGi7",
        "colab_type": "code",
        "outputId": "09e6c0bb-3e93-4d4e-c03d-78bea820f865",
        "colab": {
          "base_uri": "https://localhost:8080/",
          "height": 269
        }
      },
      "source": [
        "pre_process.info()"
      ],
      "execution_count": 0,
      "outputs": [
        {
          "output_type": "stream",
          "text": [
            "<class 'pandas.core.frame.DataFrame'>\n",
            "Int64Index: 270746 entries, 0 to 271115\n",
            "Data columns (total 10 columns):\n",
            "Sex             270746 non-null int64\n",
            "Age             270746 non-null float64\n",
            "Height          270746 non-null float64\n",
            "Weight          270746 non-null float64\n",
            "Season          270746 non-null int64\n",
            "Sport           270746 non-null int64\n",
            "Medal           270746 non-null int64\n",
            "Year            270746 non-null int64\n",
            "region          270746 non-null object\n",
            "region_point    270746 non-null float64\n",
            "dtypes: float64(4), int64(5), object(1)\n",
            "memory usage: 22.7+ MB\n"
          ],
          "name": "stdout"
        }
      ]
    },
    {
      "cell_type": "code",
      "metadata": {
        "id": "XKYKgF3YzJHA",
        "colab_type": "code",
        "outputId": "ffce8b06-5182-487c-8cc5-bff01befb9ce",
        "colab": {
          "base_uri": "https://localhost:8080/",
          "height": 195
        }
      },
      "source": [
        "pre_process.head(5)"
      ],
      "execution_count": 0,
      "outputs": [
        {
          "output_type": "execute_result",
          "data": {
            "text/html": [
              "<div>\n",
              "<style scoped>\n",
              "    .dataframe tbody tr th:only-of-type {\n",
              "        vertical-align: middle;\n",
              "    }\n",
              "\n",
              "    .dataframe tbody tr th {\n",
              "        vertical-align: top;\n",
              "    }\n",
              "\n",
              "    .dataframe thead th {\n",
              "        text-align: right;\n",
              "    }\n",
              "</style>\n",
              "<table border=\"1\" class=\"dataframe\">\n",
              "  <thead>\n",
              "    <tr style=\"text-align: right;\">\n",
              "      <th></th>\n",
              "      <th>Sex</th>\n",
              "      <th>Age</th>\n",
              "      <th>Height</th>\n",
              "      <th>Weight</th>\n",
              "      <th>Season</th>\n",
              "      <th>Sport</th>\n",
              "      <th>Medal</th>\n",
              "      <th>Year</th>\n",
              "      <th>region</th>\n",
              "      <th>region_point</th>\n",
              "    </tr>\n",
              "  </thead>\n",
              "  <tbody>\n",
              "    <tr>\n",
              "      <th>0</th>\n",
              "      <td>1</td>\n",
              "      <td>24.0</td>\n",
              "      <td>180.0</td>\n",
              "      <td>80.0</td>\n",
              "      <td>0</td>\n",
              "      <td>8</td>\n",
              "      <td>0</td>\n",
              "      <td>1992</td>\n",
              "      <td>China</td>\n",
              "      <td>2.906946</td>\n",
              "    </tr>\n",
              "    <tr>\n",
              "      <th>1</th>\n",
              "      <td>1</td>\n",
              "      <td>23.0</td>\n",
              "      <td>170.0</td>\n",
              "      <td>60.0</td>\n",
              "      <td>0</td>\n",
              "      <td>32</td>\n",
              "      <td>0</td>\n",
              "      <td>2012</td>\n",
              "      <td>China</td>\n",
              "      <td>2.906946</td>\n",
              "    </tr>\n",
              "    <tr>\n",
              "      <th>2</th>\n",
              "      <td>1</td>\n",
              "      <td>24.0</td>\n",
              "      <td>175.0</td>\n",
              "      <td>70.0</td>\n",
              "      <td>0</td>\n",
              "      <td>24</td>\n",
              "      <td>0</td>\n",
              "      <td>1920</td>\n",
              "      <td>Denmark</td>\n",
              "      <td>3.352490</td>\n",
              "    </tr>\n",
              "    <tr>\n",
              "      <th>3</th>\n",
              "      <td>1</td>\n",
              "      <td>34.0</td>\n",
              "      <td>175.0</td>\n",
              "      <td>70.0</td>\n",
              "      <td>0</td>\n",
              "      <td>61</td>\n",
              "      <td>3</td>\n",
              "      <td>1900</td>\n",
              "      <td>Denmark</td>\n",
              "      <td>3.352490</td>\n",
              "    </tr>\n",
              "    <tr>\n",
              "      <th>4</th>\n",
              "      <td>0</td>\n",
              "      <td>21.0</td>\n",
              "      <td>185.0</td>\n",
              "      <td>82.0</td>\n",
              "      <td>1</td>\n",
              "      <td>53</td>\n",
              "      <td>0</td>\n",
              "      <td>1988</td>\n",
              "      <td>Netherlands</td>\n",
              "      <td>3.056814</td>\n",
              "    </tr>\n",
              "  </tbody>\n",
              "</table>\n",
              "</div>"
            ],
            "text/plain": [
              "   Sex   Age  Height  Weight  ...  Medal  Year       region  region_point\n",
              "0    1  24.0   180.0    80.0  ...      0  1992        China      2.906946\n",
              "1    1  23.0   170.0    60.0  ...      0  2012        China      2.906946\n",
              "2    1  24.0   175.0    70.0  ...      0  1920      Denmark      3.352490\n",
              "3    1  34.0   175.0    70.0  ...      3  1900      Denmark      3.352490\n",
              "4    0  21.0   185.0    82.0  ...      0  1988  Netherlands      3.056814\n",
              "\n",
              "[5 rows x 10 columns]"
            ]
          },
          "metadata": {
            "tags": []
          },
          "execution_count": 15
        }
      ]
    },
    {
      "cell_type": "code",
      "metadata": {
        "id": "xMaIiJfX3cK4",
        "colab_type": "code",
        "outputId": "b907cc11-63b9-4666-c4c0-a0ce75741fc0",
        "colab": {
          "base_uri": "https://localhost:8080/",
          "height": 284
        }
      },
      "source": [
        "pre_process.describe()"
      ],
      "execution_count": 0,
      "outputs": [
        {
          "output_type": "execute_result",
          "data": {
            "text/html": [
              "<div>\n",
              "<style scoped>\n",
              "    .dataframe tbody tr th:only-of-type {\n",
              "        vertical-align: middle;\n",
              "    }\n",
              "\n",
              "    .dataframe tbody tr th {\n",
              "        vertical-align: top;\n",
              "    }\n",
              "\n",
              "    .dataframe thead th {\n",
              "        text-align: right;\n",
              "    }\n",
              "</style>\n",
              "<table border=\"1\" class=\"dataframe\">\n",
              "  <thead>\n",
              "    <tr style=\"text-align: right;\">\n",
              "      <th></th>\n",
              "      <th>Sex</th>\n",
              "      <th>Age</th>\n",
              "      <th>Height</th>\n",
              "      <th>Weight</th>\n",
              "      <th>Season</th>\n",
              "      <th>Sport</th>\n",
              "      <th>Medal</th>\n",
              "      <th>Year</th>\n",
              "      <th>region_point</th>\n",
              "    </tr>\n",
              "  </thead>\n",
              "  <tbody>\n",
              "    <tr>\n",
              "      <th>count</th>\n",
              "      <td>270746.000000</td>\n",
              "      <td>270746.000000</td>\n",
              "      <td>270746.000000</td>\n",
              "      <td>270746.000000</td>\n",
              "      <td>270746.000000</td>\n",
              "      <td>270746.000000</td>\n",
              "      <td>270746.000000</td>\n",
              "      <td>270746.000000</td>\n",
              "      <td>270746.000000</td>\n",
              "    </tr>\n",
              "    <tr>\n",
              "      <th>mean</th>\n",
              "      <td>0.725255</td>\n",
              "      <td>25.505496</td>\n",
              "      <td>175.268244</td>\n",
              "      <td>70.545522</td>\n",
              "      <td>0.179371</td>\n",
              "      <td>28.628626</td>\n",
              "      <td>0.294106</td>\n",
              "      <td>1978.360279</td>\n",
              "      <td>2.903855</td>\n",
              "    </tr>\n",
              "    <tr>\n",
              "      <th>std</th>\n",
              "      <td>0.446386</td>\n",
              "      <td>6.286433</td>\n",
              "      <td>9.280213</td>\n",
              "      <td>12.580287</td>\n",
              "      <td>0.383663</td>\n",
              "      <td>19.397892</td>\n",
              "      <td>0.775102</td>\n",
              "      <td>29.883741</td>\n",
              "      <td>1.891648</td>\n",
              "    </tr>\n",
              "    <tr>\n",
              "      <th>min</th>\n",
              "      <td>0.000000</td>\n",
              "      <td>10.000000</td>\n",
              "      <td>127.000000</td>\n",
              "      <td>25.000000</td>\n",
              "      <td>0.000000</td>\n",
              "      <td>0.000000</td>\n",
              "      <td>0.000000</td>\n",
              "      <td>1896.000000</td>\n",
              "      <td>0.000000</td>\n",
              "    </tr>\n",
              "    <tr>\n",
              "      <th>25%</th>\n",
              "      <td>0.000000</td>\n",
              "      <td>22.000000</td>\n",
              "      <td>170.000000</td>\n",
              "      <td>63.000000</td>\n",
              "      <td>0.000000</td>\n",
              "      <td>12.000000</td>\n",
              "      <td>0.000000</td>\n",
              "      <td>1960.000000</td>\n",
              "      <td>1.678832</td>\n",
              "    </tr>\n",
              "    <tr>\n",
              "      <th>50%</th>\n",
              "      <td>1.000000</td>\n",
              "      <td>24.000000</td>\n",
              "      <td>175.000000</td>\n",
              "      <td>70.000000</td>\n",
              "      <td>0.000000</td>\n",
              "      <td>27.000000</td>\n",
              "      <td>0.000000</td>\n",
              "      <td>1988.000000</td>\n",
              "      <td>2.654867</td>\n",
              "    </tr>\n",
              "    <tr>\n",
              "      <th>75%</th>\n",
              "      <td>1.000000</td>\n",
              "      <td>28.000000</td>\n",
              "      <td>180.000000</td>\n",
              "      <td>75.000000</td>\n",
              "      <td>0.000000</td>\n",
              "      <td>47.000000</td>\n",
              "      <td>0.000000</td>\n",
              "      <td>2002.000000</td>\n",
              "      <td>3.645428</td>\n",
              "    </tr>\n",
              "    <tr>\n",
              "      <th>max</th>\n",
              "      <td>1.000000</td>\n",
              "      <td>97.000000</td>\n",
              "      <td>226.000000</td>\n",
              "      <td>214.000000</td>\n",
              "      <td>1.000000</td>\n",
              "      <td>65.000000</td>\n",
              "      <td>3.000000</td>\n",
              "      <td>2016.000000</td>\n",
              "      <td>7.698054</td>\n",
              "    </tr>\n",
              "  </tbody>\n",
              "</table>\n",
              "</div>"
            ],
            "text/plain": [
              "                 Sex            Age  ...           Year   region_point\n",
              "count  270746.000000  270746.000000  ...  270746.000000  270746.000000\n",
              "mean        0.725255      25.505496  ...    1978.360279       2.903855\n",
              "std         0.446386       6.286433  ...      29.883741       1.891648\n",
              "min         0.000000      10.000000  ...    1896.000000       0.000000\n",
              "25%         0.000000      22.000000  ...    1960.000000       1.678832\n",
              "50%         1.000000      24.000000  ...    1988.000000       2.654867\n",
              "75%         1.000000      28.000000  ...    2002.000000       3.645428\n",
              "max         1.000000      97.000000  ...    2016.000000       7.698054\n",
              "\n",
              "[8 rows x 9 columns]"
            ]
          },
          "metadata": {
            "tags": []
          },
          "execution_count": 16
        }
      ]
    },
    {
      "cell_type": "markdown",
      "metadata": {
        "id": "qGIxgSlZ15UJ",
        "colab_type": "text"
      },
      "source": [
        "**Explain why use only data before 2005 to get the point for region encode**\n",
        "\n",
        "Data of Year before 2005 is approximately 80% of total. 20% is after 2005. We will not touch these labels because we will use them for test data.\n",
        "\n",
        "Some countries paricipate after 2005. We will consider their competency points as 0.\n"
      ]
    },
    {
      "cell_type": "markdown",
      "metadata": {
        "id": "xv6ddNmF2Z-D",
        "colab_type": "text"
      },
      "source": [
        "## 3. Data Exploration"
      ]
    },
    {
      "cell_type": "code",
      "metadata": {
        "id": "kvVUsiJt2fME",
        "colab_type": "code",
        "outputId": "5d8037a6-288c-48be-b1a0-b243a29e2d2c",
        "colab": {
          "base_uri": "https://localhost:8080/",
          "height": 282
        }
      },
      "source": [
        "pd.value_counts(pre_process['Medal']).plot.bar() # imbalanced data sets"
      ],
      "execution_count": 0,
      "outputs": [
        {
          "output_type": "execute_result",
          "data": {
            "text/plain": [
              "<matplotlib.axes._subplots.AxesSubplot at 0x7f2fcff6f940>"
            ]
          },
          "metadata": {
            "tags": []
          },
          "execution_count": 17
        },
        {
          "output_type": "display_data",
          "data": {
            "image/png": "[encoded data removed]",
            "text/plain": [
              "<Figure size 432x288 with 1 Axes>"
            ]
          },
          "metadata": {
            "tags": []
          }
        }
      ]
    },
    {
      "cell_type": "markdown",
      "metadata": {
        "id": "-hGZNgZm4w0U",
        "colab_type": "text"
      },
      "source": [
        "**Data set is highly imbalanced**"
      ]
    },
    {
      "cell_type": "code",
      "metadata": {
        "id": "xYUQ1N7d2qb2",
        "colab_type": "code",
        "outputId": "fd3f9c2a-8853-4a46-d47b-456b8ec392e9",
        "colab": {
          "base_uri": "https://localhost:8080/",
          "height": 628
        }
      },
      "source": [
        "dims = (20, 10)\n",
        "fig, ax = plt.subplots(figsize=dims)\n",
        "sb.countplot(x = \"Sport\", data = pre_process)"
      ],
      "execution_count": 0,
      "outputs": [
        {
          "output_type": "execute_result",
          "data": {
            "text/plain": [
              "<matplotlib.axes._subplots.AxesSubplot at 0x7f2feec71048>"
            ]
          },
          "metadata": {
            "tags": []
          },
          "execution_count": 18
        },
        {
          "output_type": "display_data",
          "data": {
            "image/png": "[encoded data removed]",
            "text/plain": [
              "<Figure size 1440x720 with 1 Axes>"
            ]
          },
          "metadata": {
            "tags": []
          }
        }
      ]
    },
    {
      "cell_type": "markdown",
      "metadata": {
        "id": "uShT3LSF46DA",
        "colab_type": "text"
      },
      "source": [
        "**Some sports will not have enough data to train**"
      ]
    },
    {
      "cell_type": "code",
      "metadata": {
        "id": "NAFJZs79eoXF",
        "colab_type": "code",
        "outputId": "7ffb1c03-df45-4dd7-8a49-a0f55fd2ce3c",
        "colab": {
          "base_uri": "https://localhost:8080/",
          "height": 1000
        }
      },
      "source": [
        "numeric = pd.DataFrame(pre_process[[\"Age\", \"Weight\", \"Height\"]])\n",
        "arr = [\"Age\", \"Weight\", \"Height\"]\n",
        "f, axes = plt.subplots(3,1, figsize = (12,24))\n",
        "count = 0\n",
        "for i in numeric:\n",
        "  sb.distplot(numeric[i],color = 'r',ax = axes[count])\n",
        "  count += 1"
      ],
      "execution_count": 0,
      "outputs": [
        {
          "output_type": "display_data",
          "data": {
            "image/png": "[encoded data removed]",
            "text/plain": [
              "<Figure size 864x1728 with 3 Axes>"
            ]
          },
          "metadata": {
            "tags": []
          }
        }
      ]
    },
    {
      "cell_type": "markdown",
      "metadata": {
        "id": "eYasOVzDe0EA",
        "colab_type": "text"
      },
      "source": [
        "**Distribution of Height, Age, Weight have its own meaning in sport**"
      ]
    },
    {
      "cell_type": "code",
      "metadata": {
        "id": "U1N75UxO2zuy",
        "colab_type": "code",
        "outputId": "43ecc836-e5a7-4e31-a491-b1add331fbb2",
        "colab": {
          "base_uri": "https://localhost:8080/",
          "height": 302
        }
      },
      "source": [
        "y = pre_process.loc[pre_process[\"Sport\"] == 5, \"Medal\"]\n",
        "X = pre_process.loc[pre_process[\"Sport\"] == 5, [\"Age\", \"Height\", \"Weight\", \"region_point\", \"Sex\", \"Season\"]]\n",
        "\n",
        "model = RandomForestClassifier()\n",
        "model.fit(X,y)\n",
        "print(model.feature_importances_) #use inbuilt class feature_importances of tree based classifiers\n",
        "#plot graph of feature importances for better visualization\n",
        "feat_importances = pd.Series(model.feature_importances_, index=X.columns)\n",
        "feat_importances.nlargest(10).plot(kind='barh')\n",
        "plt.show()\n",
        "\n",
        "print(sport.inverse_transform([5]))"
      ],
      "execution_count": 0,
      "outputs": [
        {
          "output_type": "stream",
          "text": [
            "[0.25318718 0.23037849 0.28312763 0.22197856 0.01132814 0.        ]\n"
          ],
          "name": "stdout"
        },
        {
          "output_type": "display_data",
          "data": {
            "image/png": "[encoded data removed]",
            "text/plain": [
              "<Figure size 432x288 with 1 Axes>"
            ]
          },
          "metadata": {
            "tags": []
          }
        },
        {
          "output_type": "stream",
          "text": [
            "['Athletics']\n"
          ],
          "name": "stdout"
        }
      ]
    },
    {
      "cell_type": "markdown",
      "metadata": {
        "id": "QQfjKy4y5BJS",
        "colab_type": "text"
      },
      "source": [
        "**Try with the sport having index 5, which have the most number of data.**\n",
        "\n",
        "We can see that season & Sex do not contribute so much to predict the Medal"
      ]
    },
    {
      "cell_type": "markdown",
      "metadata": {
        "id": "cwGO5ay65YSH",
        "colab_type": "text"
      },
      "source": [
        "## 4. Machine Learning"
      ]
    },
    {
      "cell_type": "code",
      "metadata": {
        "id": "FR8-8Nx_6Iel",
        "colab_type": "code",
        "colab": {}
      },
      "source": [
        "state = 42\n",
        "def score_evaluate(y_test, y_pred):\n",
        "  recall = recall_score(y_test, y_pred, average=None)\n",
        "  precision = precision_score(y_test, y_pred, average=None)\n",
        "  acc = accuracy_score(y_test, y_pred)\n",
        "\n",
        "  print(\"recall:\", end=\"\\t\\t \")\n",
        "  for i in range(len(recall)):\n",
        "    print(str(i) + \": \" + \"%.2f\"%recall[i], end=\"| \")\n",
        "  print(\"\")\n",
        "  print(\"precision:\", end=\"\\t \")  \n",
        "  for i in range(len(precision)):\n",
        "    print(str(i) + \": \" + \"%.2f\"%precision[i], end=\"| \")\n",
        "  print(\"\")\n",
        "  print(\"Accuracy is \"+ str(acc))\n",
        "\n",
        "  cm = confusion_matrix(y_test, y_pred)\n",
        "  print(cm)\n",
        "  print(\"\")"
      ],
      "execution_count": 0,
      "outputs": []
    },
    {
      "cell_type": "markdown",
      "metadata": {
        "id": "5H8tNqCE5lXl",
        "colab_type": "text"
      },
      "source": [
        "\n",
        "### 4.1 Why imbalance data is not good ?\n",
        "\n",
        "We will evaluate on dataset of 'Athlete' sport, which have the largest number of players.\n",
        "\n",
        "Models try on:\n",
        "\n",
        "\n",
        "*   RandomForestClassifier\n",
        "*   XGBoost Classifier\n",
        "*   GaussianNB\n",
        "\n",
        "\n"
      ]
    },
    {
      "cell_type": "code",
      "metadata": {
        "id": "5nX7r-WT3GOl",
        "colab_type": "code",
        "outputId": "598f9dd5-e2a8-4ea8-8718-e0f3f80c826d",
        "colab": {
          "base_uri": "https://localhost:8080/",
          "height": 195
        }
      },
      "source": [
        "#try in a random sport\n",
        "data = pd.DataFrame(pre_process.loc[pre_process[\"Sport\"] == 46])\n",
        "data.head()"
      ],
      "execution_count": 0,
      "outputs": [
        {
          "output_type": "execute_result",
          "data": {
            "text/html": [
              "<div>\n",
              "<style scoped>\n",
              "    .dataframe tbody tr th:only-of-type {\n",
              "        vertical-align: middle;\n",
              "    }\n",
              "\n",
              "    .dataframe tbody tr th {\n",
              "        vertical-align: top;\n",
              "    }\n",
              "\n",
              "    .dataframe thead th {\n",
              "        text-align: right;\n",
              "    }\n",
              "</style>\n",
              "<table border=\"1\" class=\"dataframe\">\n",
              "  <thead>\n",
              "    <tr style=\"text-align: right;\">\n",
              "      <th></th>\n",
              "      <th>Sex</th>\n",
              "      <th>Age</th>\n",
              "      <th>Height</th>\n",
              "      <th>Weight</th>\n",
              "      <th>Season</th>\n",
              "      <th>Sport</th>\n",
              "      <th>Medal</th>\n",
              "      <th>Year</th>\n",
              "      <th>region</th>\n",
              "      <th>region_point</th>\n",
              "    </tr>\n",
              "  </thead>\n",
              "  <tbody>\n",
              "    <tr>\n",
              "      <th>32</th>\n",
              "      <td>0</td>\n",
              "      <td>30.0</td>\n",
              "      <td>159.0</td>\n",
              "      <td>55.5</td>\n",
              "      <td>0</td>\n",
              "      <td>46</td>\n",
              "      <td>0</td>\n",
              "      <td>1996</td>\n",
              "      <td>Finland</td>\n",
              "      <td>2.934783</td>\n",
              "    </tr>\n",
              "    <tr>\n",
              "      <th>33</th>\n",
              "      <td>0</td>\n",
              "      <td>34.0</td>\n",
              "      <td>159.0</td>\n",
              "      <td>55.5</td>\n",
              "      <td>0</td>\n",
              "      <td>46</td>\n",
              "      <td>0</td>\n",
              "      <td>2000</td>\n",
              "      <td>Finland</td>\n",
              "      <td>2.934783</td>\n",
              "    </tr>\n",
              "    <tr>\n",
              "      <th>89</th>\n",
              "      <td>1</td>\n",
              "      <td>43.0</td>\n",
              "      <td>170.0</td>\n",
              "      <td>77.0</td>\n",
              "      <td>0</td>\n",
              "      <td>46</td>\n",
              "      <td>0</td>\n",
              "      <td>1968</td>\n",
              "      <td>Norway</td>\n",
              "      <td>4.327214</td>\n",
              "    </tr>\n",
              "    <tr>\n",
              "      <th>90</th>\n",
              "      <td>1</td>\n",
              "      <td>47.0</td>\n",
              "      <td>170.0</td>\n",
              "      <td>77.0</td>\n",
              "      <td>0</td>\n",
              "      <td>46</td>\n",
              "      <td>0</td>\n",
              "      <td>1972</td>\n",
              "      <td>Norway</td>\n",
              "      <td>4.327214</td>\n",
              "    </tr>\n",
              "    <tr>\n",
              "      <th>96</th>\n",
              "      <td>1</td>\n",
              "      <td>24.0</td>\n",
              "      <td>187.0</td>\n",
              "      <td>76.0</td>\n",
              "      <td>0</td>\n",
              "      <td>46</td>\n",
              "      <td>0</td>\n",
              "      <td>1992</td>\n",
              "      <td>Finland</td>\n",
              "      <td>2.934783</td>\n",
              "    </tr>\n",
              "  </tbody>\n",
              "</table>\n",
              "</div>"
            ],
            "text/plain": [
              "    Sex   Age  Height  Weight  ...  Medal  Year   region  region_point\n",
              "32    0  30.0   159.0    55.5  ...      0  1996  Finland      2.934783\n",
              "33    0  34.0   159.0    55.5  ...      0  2000  Finland      2.934783\n",
              "89    1  43.0   170.0    77.0  ...      0  1968   Norway      4.327214\n",
              "90    1  47.0   170.0    77.0  ...      0  1972   Norway      4.327214\n",
              "96    1  24.0   187.0    76.0  ...      0  1992  Finland      2.934783\n",
              "\n",
              "[5 rows x 10 columns]"
            ]
          },
          "metadata": {
            "tags": []
          },
          "execution_count": 22
        }
      ]
    },
    {
      "cell_type": "code",
      "metadata": {
        "id": "sbuZlm-J6bAU",
        "colab_type": "code",
        "colab": {}
      },
      "source": [
        "train = pd.DataFrame(data.loc[data[\"Year\"] <= 2005])\n",
        "test = pd.DataFrame(data.loc[data[\"Year\"] > 2005])\n",
        "\n",
        "X_train, y_train = train[[\"Age\", \"Height\", \"Weight\", \"region_point\"]], train[[\"Medal\"]]\n",
        "X_test, y_test = test[[\"Age\", \"Height\", \"Weight\", \"region_point\"]], test[[\"Medal\"]]"
      ],
      "execution_count": 0,
      "outputs": []
    },
    {
      "cell_type": "code",
      "metadata": {
        "id": "asj_VgU87Rdd",
        "colab_type": "code",
        "outputId": "4a79642f-20d5-4a5a-a423-97430df318c2",
        "colab": {
          "base_uri": "https://localhost:8080/",
          "height": 151
        }
      },
      "source": [
        "model0 = RandomForestClassifier(random_state = state)\n",
        "model0.fit(X_train, y_train)\n",
        "score_evaluate(y_test, model0.predict(X_test))"
      ],
      "execution_count": 0,
      "outputs": [
        {
          "output_type": "stream",
          "text": [
            "recall:\t\t 0: 0.97| 1: 0.02| 2: 0.02| 3: 0.04| \n",
            "precision:\t 0: 0.88| 1: 0.07| 2: 0.10| 3: 0.12| \n",
            "Accuracy is 0.8518843120070114\n",
            "[[968   8   7  11]\n",
            " [ 45   1   2   1]\n",
            " [ 43   3   1   2]\n",
            " [ 45   2   0   2]]\n",
            "\n"
          ],
          "name": "stdout"
        }
      ]
    },
    {
      "cell_type": "code",
      "metadata": {
        "id": "pNdV-V7J7g_d",
        "colab_type": "code",
        "outputId": "5c6f176a-65ab-4b59-8075-5cae375ec6fd",
        "colab": {
          "base_uri": "https://localhost:8080/",
          "height": 151
        }
      },
      "source": [
        "model1 = xgboost.XGBClassifier(n_jobs = -1, random_state=state, learning_rate=0.001, objective='multi:softmax')\n",
        "model1.fit(X_train, y_train)\n",
        "score_evaluate(y_test, model1.predict(X_test))"
      ],
      "execution_count": 0,
      "outputs": [
        {
          "output_type": "stream",
          "text": [
            "recall:\t\t 0: 1.00| 1: 0.00| 2: 0.00| 3: 0.00| \n",
            "precision:\t 0: 0.87| 1: 0.00| 2: 0.00| 3: 0.00| \n",
            "Accuracy is 0.8711656441717791\n",
            "[[994   0   0   0]\n",
            " [ 49   0   0   0]\n",
            " [ 49   0   0   0]\n",
            " [ 49   0   0   0]]\n",
            "\n"
          ],
          "name": "stdout"
        }
      ]
    },
    {
      "cell_type": "code",
      "metadata": {
        "id": "2I56qySG71PH",
        "colab_type": "code",
        "outputId": "2c0f36cb-7b1c-4bde-a611-7898c11b4f2b",
        "colab": {
          "base_uri": "https://localhost:8080/",
          "height": 151
        }
      },
      "source": [
        "#this model is based on priors prob we give;not on  distribution of data\n",
        "model2 = GaussianNB(priors=[0.25, 0.25,0.25,0.25]) \n",
        "model2.fit(X_train, y_train)\n",
        "score_evaluate(y_test, model2.predict(X_test))"
      ],
      "execution_count": 0,
      "outputs": [
        {
          "output_type": "stream",
          "text": [
            "recall:\t\t 0: 0.67| 1: 0.04| 2: 0.02| 3: 0.22| \n",
            "precision:\t 0: 0.88| 1: 0.02| 2: 0.01| 3: 0.05| \n",
            "Accuracy is 0.5968448729184925\n",
            "[[667  91  68 168]\n",
            " [ 34   2   4   9]\n",
            " [ 28   6   1  14]\n",
            " [ 25   8   5  11]]\n",
            "\n"
          ],
          "name": "stdout"
        }
      ]
    },
    {
      "cell_type": "markdown",
      "metadata": {
        "id": "cZgGPQHT8ZHx",
        "colab_type": "text"
      },
      "source": [
        "**As we can see, Imbalanced data set performs badly on both 3 model**\n",
        "\n",
        "It gives high accuracy but low precision and recall in the minority class."
      ]
    },
    {
      "cell_type": "markdown",
      "metadata": {
        "id": "1jPpwfcq863f",
        "colab_type": "text"
      },
      "source": [
        "### 4.2 Fixed Imbalanced Data Set\n",
        "\n",
        "\n",
        "**4 ways to cope with**\n",
        "1. Oversample:  copy the given minority data\n",
        "2. Undersample: remove the given majority data\n",
        "3. SMOTE:       resample new data based on the given.\n",
        "4. Add weight to the given function\n",
        "\n",
        "*We only try the 3rd and 4th*\n",
        "\n",
        "*Our data is not so many to try the 2nd one.*\n",
        "\n",
        "*3rd Method is better than the 1st one*\n"
      ]
    },
    {
      "cell_type": "code",
      "metadata": {
        "id": "p5Ym7NOD-FOD",
        "colab_type": "code",
        "colab": {}
      },
      "source": [
        "train = pd.DataFrame(data.loc[data[\"Year\"] <= 2005])\n",
        "test = pd.DataFrame(data.loc[data[\"Year\"] > 2005])\n",
        "\n",
        "X_train, y_train = train[[\"Age\", \"Height\", \"Weight\", \"region_point\"]], train[\"Medal\"]\n",
        "X_test, y_test = test[[\"Age\", \"Height\", \"Weight\", \"region_point\"]], test[\"Medal\"]"
      ],
      "execution_count": 0,
      "outputs": []
    },
    {
      "cell_type": "markdown",
      "metadata": {
        "id": "CUmaQPh6-NLF",
        "colab_type": "text"
      },
      "source": [
        "#### Add weight method"
      ]
    },
    {
      "cell_type": "code",
      "metadata": {
        "id": "HH-vZBod-Lly",
        "colab_type": "code",
        "colab": {}
      },
      "source": [
        "def add_w(y):\n",
        "  class_w = class_weight.compute_class_weight('balanced', np.unique(y), y)\n",
        "  dict_weight = {}\n",
        "  x = list(y.unique())\n",
        "  x.sort()\n",
        "  j = 0\n",
        "  # get the balanced dict weight\n",
        "  while(j < len(class_w)):\n",
        "    dict_weight.update({x[j] : class_w[j]})\n",
        "    j += 1\n",
        "  print(\"class_weight = \", dict_weight)\n",
        "  return dict_weight\n"
      ],
      "execution_count": 0,
      "outputs": []
    },
    {
      "cell_type": "code",
      "metadata": {
        "id": "siHs4NVg-Vyy",
        "colab_type": "code",
        "outputId": "0a580109-7394-47e1-9a80-d1af8de62275",
        "colab": {
          "base_uri": "https://localhost:8080/",
          "height": 168
        }
      },
      "source": [
        "model0 = RandomForestClassifier(random_state = state,  class_weight = add_w(y_train))\n",
        "model0.fit(X_train, y_train)\n",
        "score_evaluate(y_test, model0.predict(X_test))"
      ],
      "execution_count": 0,
      "outputs": [
        {
          "output_type": "stream",
          "text": [
            "class_weight =  {0: 0.3127748206433696, 1: 4.25, 2: 3.692622950819672, 3: 3.3703241895261846}\n",
            "recall:\t\t 0: 0.97| 1: 0.00| 2: 0.00| 3: 0.02| \n",
            "precision:\t 0: 0.87| 1: 0.00| 2: 0.00| 3: 0.10| \n",
            "Accuracy is 0.8492550394390885\n",
            "[[968   9   9   8]\n",
            " [ 49   0   0   0]\n",
            " [ 46   2   0   1]\n",
            " [ 46   2   0   1]]\n",
            "\n"
          ],
          "name": "stdout"
        }
      ]
    },
    {
      "cell_type": "markdown",
      "metadata": {
        "id": "lh2RauP7fguh",
        "colab_type": "text"
      },
      "source": [
        "#### SMOTE"
      ]
    },
    {
      "cell_type": "code",
      "metadata": {
        "id": "308A_4Qy-gYN",
        "colab_type": "code",
        "outputId": "5a995b95-f291-44c7-975a-0c494249c5b5",
        "colab": {
          "base_uri": "https://localhost:8080/",
          "height": 282
        }
      },
      "source": [
        "sm = SMOTE('auto', random_state=state)\n",
        "X_train_sm, y_train_sm = sm.fit_sample(X_train, y_train)\n",
        "pd.value_counts(y_train_sm).plot.bar() # imbalanced data sets"
      ],
      "execution_count": 0,
      "outputs": [
        {
          "output_type": "execute_result",
          "data": {
            "text/plain": [
              "<matplotlib.axes._subplots.AxesSubplot at 0x7f2fd0919198>"
            ]
          },
          "metadata": {
            "tags": []
          },
          "execution_count": 30
        },
        {
          "output_type": "display_data",
          "data": {
            "image/png": "[encoded data removed]",
            "text/plain": [
              "<Figure size 432x288 with 1 Axes>"
            ]
          },
          "metadata": {
            "tags": []
          }
        }
      ]
    },
    {
      "cell_type": "code",
      "metadata": {
        "id": "oqhodb_zgxA7",
        "colab_type": "code",
        "outputId": "e7bda693-936c-4b04-f98a-872e377948d2",
        "colab": {
          "base_uri": "https://localhost:8080/",
          "height": 151
        }
      },
      "source": [
        "model0 = RandomForestClassifier(random_state = state)\n",
        "model0.fit(X_train_sm, y_train_sm)\n",
        "score_evaluate(y_test, model0.predict(X_test))"
      ],
      "execution_count": 0,
      "outputs": [
        {
          "output_type": "stream",
          "text": [
            "recall:\t\t 0: 0.86| 1: 0.04| 2: 0.04| 3: 0.06| \n",
            "precision:\t 0: 0.87| 1: 0.03| 2: 0.04| 3: 0.07| \n",
            "Accuracy is 0.7537248028045574\n",
            "[[853  61  42  38]\n",
            " [ 44   2   2   1]\n",
            " [ 38   5   2   4]\n",
            " [ 42   3   1   3]]\n",
            "\n"
          ],
          "name": "stdout"
        }
      ]
    },
    {
      "cell_type": "code",
      "metadata": {
        "id": "a-M71X7H_oKl",
        "colab_type": "code",
        "outputId": "645d644e-5630-4887-bd78-483cb50a964d",
        "colab": {
          "base_uri": "https://localhost:8080/",
          "height": 151
        }
      },
      "source": [
        "model2 = xgboost.XGBClassifier(n_jobs = -1, random_state=state, learning_rate=0.01, objective='multi:softmax')\n",
        "model2.fit(X_train_sm, y_train_sm)\n",
        "X_test_sm = X_test.rename(columns={\"Age\": \"f0\", \"Height\": \"f1\", \"Weight\":\"f2\",\"region_point\":\"f3\"})\n",
        "y_pred= model2.predict(X_test_sm)\n",
        "score_evaluate(y_test, y_pred)"
      ],
      "execution_count": 0,
      "outputs": [
        {
          "output_type": "stream",
          "text": [
            "recall:\t\t 0: 0.62| 1: 0.33| 2: 0.04| 3: 0.14| \n",
            "precision:\t 0: 0.89| 1: 0.06| 2: 0.02| 3: 0.09| \n",
            "Accuracy is 0.5600350569675723\n",
            "[[614 241  75  64]\n",
            " [ 28  16   2   3]\n",
            " [ 26  14   2   7]\n",
            " [ 22  17   3   7]]\n",
            "\n"
          ],
          "name": "stdout"
        }
      ]
    },
    {
      "cell_type": "markdown",
      "metadata": {
        "id": "tqFCd3B0je1R",
        "colab_type": "text"
      },
      "source": [
        "**As we can see using SMOTE & adding weight give better precision & recall compared to imbalanced data**\n"
      ]
    },
    {
      "cell_type": "markdown",
      "metadata": {
        "id": "ab6KYBmokCOv",
        "colab_type": "text"
      },
      "source": [
        "### 4.3 Apply SMOTE or adding weight & Random Forest for final model.\n",
        "\n",
        "We design a model to predict medals of **basketball players**"
      ]
    },
    {
      "cell_type": "code",
      "metadata": {
        "id": "LymRan5QkHWa",
        "colab_type": "code",
        "outputId": "ba5b1dc4-742e-4332-c03b-ac77a6f8724a",
        "colab": {
          "base_uri": "https://localhost:8080/",
          "height": 195
        }
      },
      "source": [
        "# we ll try on basketball sport\n",
        "basketball_data = pd.DataFrame(pre_process.loc[pre_process[\"Sport\"] == 8])\n",
        "basketball_data.head()"
      ],
      "execution_count": 0,
      "outputs": [
        {
          "output_type": "execute_result",
          "data": {
            "text/html": [
              "<div>\n",
              "<style scoped>\n",
              "    .dataframe tbody tr th:only-of-type {\n",
              "        vertical-align: middle;\n",
              "    }\n",
              "\n",
              "    .dataframe tbody tr th {\n",
              "        vertical-align: top;\n",
              "    }\n",
              "\n",
              "    .dataframe thead th {\n",
              "        text-align: right;\n",
              "    }\n",
              "</style>\n",
              "<table border=\"1\" class=\"dataframe\">\n",
              "  <thead>\n",
              "    <tr style=\"text-align: right;\">\n",
              "      <th></th>\n",
              "      <th>Sex</th>\n",
              "      <th>Age</th>\n",
              "      <th>Height</th>\n",
              "      <th>Weight</th>\n",
              "      <th>Season</th>\n",
              "      <th>Sport</th>\n",
              "      <th>Medal</th>\n",
              "      <th>Year</th>\n",
              "      <th>region</th>\n",
              "      <th>region_point</th>\n",
              "    </tr>\n",
              "  </thead>\n",
              "  <tbody>\n",
              "    <tr>\n",
              "      <th>0</th>\n",
              "      <td>1</td>\n",
              "      <td>24.0</td>\n",
              "      <td>180.0</td>\n",
              "      <td>80.0</td>\n",
              "      <td>0</td>\n",
              "      <td>8</td>\n",
              "      <td>0</td>\n",
              "      <td>1992</td>\n",
              "      <td>China</td>\n",
              "      <td>2.906946</td>\n",
              "    </tr>\n",
              "    <tr>\n",
              "      <th>167</th>\n",
              "      <td>0</td>\n",
              "      <td>19.0</td>\n",
              "      <td>185.0</td>\n",
              "      <td>72.0</td>\n",
              "      <td>0</td>\n",
              "      <td>8</td>\n",
              "      <td>0</td>\n",
              "      <td>2008</td>\n",
              "      <td>Spain</td>\n",
              "      <td>1.513630</td>\n",
              "    </tr>\n",
              "    <tr>\n",
              "      <th>250</th>\n",
              "      <td>1</td>\n",
              "      <td>31.0</td>\n",
              "      <td>175.0</td>\n",
              "      <td>70.0</td>\n",
              "      <td>0</td>\n",
              "      <td>8</td>\n",
              "      <td>0</td>\n",
              "      <td>1952</td>\n",
              "      <td>Egypt</td>\n",
              "      <td>0.331447</td>\n",
              "    </tr>\n",
              "    <tr>\n",
              "      <th>264</th>\n",
              "      <td>1</td>\n",
              "      <td>29.0</td>\n",
              "      <td>195.0</td>\n",
              "      <td>85.0</td>\n",
              "      <td>0</td>\n",
              "      <td>8</td>\n",
              "      <td>0</td>\n",
              "      <td>2000</td>\n",
              "      <td>Italy</td>\n",
              "      <td>3.287611</td>\n",
              "    </tr>\n",
              "    <tr>\n",
              "      <th>346</th>\n",
              "      <td>1</td>\n",
              "      <td>25.0</td>\n",
              "      <td>189.0</td>\n",
              "      <td>85.0</td>\n",
              "      <td>0</td>\n",
              "      <td>8</td>\n",
              "      <td>0</td>\n",
              "      <td>1972</td>\n",
              "      <td>Egypt</td>\n",
              "      <td>0.331447</td>\n",
              "    </tr>\n",
              "  </tbody>\n",
              "</table>\n",
              "</div>"
            ],
            "text/plain": [
              "     Sex   Age  Height  Weight  Season  Sport  Medal  Year region  region_point\n",
              "0      1  24.0   180.0    80.0       0      8      0  1992  China      2.906946\n",
              "167    0  19.0   185.0    72.0       0      8      0  2008  Spain      1.513630\n",
              "250    1  31.0   175.0    70.0       0      8      0  1952  Egypt      0.331447\n",
              "264    1  29.0   195.0    85.0       0      8      0  2000  Italy      3.287611\n",
              "346    1  25.0   189.0    85.0       0      8      0  1972  Egypt      0.331447"
            ]
          },
          "metadata": {
            "tags": []
          },
          "execution_count": 33
        }
      ]
    },
    {
      "cell_type": "code",
      "metadata": {
        "id": "WXHii6cUkgzC",
        "colab_type": "code",
        "outputId": "764bd115-7881-4630-fcc4-69c8d6157458",
        "colab": {
          "base_uri": "https://localhost:8080/",
          "height": 399
        }
      },
      "source": [
        "train = pd.DataFrame(basketball_data.loc[basketball_data[\"Year\"] <= 2005])\n",
        "test = pd.DataFrame(basketball_data.loc[basketball_data[\"Year\"] > 2005])\n",
        "\n",
        "X_train, y_train = train[[\"Age\", \"Height\", \"Weight\", \"region_point\"]], train[\"Medal\"]\n",
        "X_test, y_test = test[[\"Age\", \"Height\", \"Weight\", \"region_point\"]], test[\"Medal\"]\n",
        "\n",
        "sm = SMOTE('auto', random_state=state)\n",
        "X_train_sm, y_train_sm = sm.fit_sample(X_train, y_train)\n",
        "pd.value_counts(y_train_sm).plot.bar() # imbalanced data sets\n",
        "\n",
        "model0 = RandomForestClassifier(random_state = state)\n",
        "model0.fit(X_train_sm, y_train_sm)\n",
        "score_evaluate(y_test, model0.predict(X_test))"
      ],
      "execution_count": 0,
      "outputs": [
        {
          "output_type": "stream",
          "text": [
            "recall:\t\t 0: 0.76| 1: 0.19| 2: 0.19| 3: 0.92| \n",
            "precision:\t 0: 0.85| 1: 0.17| 2: 0.16| 3: 0.59| \n",
            "Accuracy is 0.6748538011695906\n",
            "[[483  63  64  29]\n",
            " [ 32  14  10  16]\n",
            " [ 56   1  14   1]\n",
            " [  0   5   1  66]]\n",
            "\n"
          ],
          "name": "stdout"
        },
        {
          "output_type": "display_data",
          "data": {
            "image/png": "[encoded data removed]",
            "text/plain": [
              "<Figure size 432x288 with 1 Axes>"
            ]
          },
          "metadata": {
            "tags": []
          }
        }
      ]
    },
    {
      "cell_type": "code",
      "metadata": {
        "id": "2U4KW73Tkkgi",
        "colab_type": "code",
        "outputId": "2c2b5dde-25f3-42ea-9beb-3b04ee28f75a",
        "colab": {
          "base_uri": "https://localhost:8080/",
          "height": 168
        }
      },
      "source": [
        "model0 = RandomForestClassifier(random_state = state, class_weight=add_w(y_train))\n",
        "model0.fit(X_train, y_train)\n",
        "score_evaluate(y_test, model0.predict(X_test))"
      ],
      "execution_count": 0,
      "outputs": [
        {
          "output_type": "stream",
          "text": [
            "class_weight =  {0: 0.3269504809405059, 1: 3.2315140845070425, 2: 3.197735191637631, 3: 3.1322525597269624}\n",
            "recall:\t\t 0: 0.90| 1: 0.19| 2: 0.10| 3: 0.94| \n",
            "precision:\t 0: 0.84| 1: 0.24| 2: 0.28| 3: 0.79| \n",
            "Accuracy is 0.775438596491228\n",
            "[[574  40  12  13]\n",
            " [ 47  14   6   5]\n",
            " [ 64   1   7   0]\n",
            " [  0   4   0  68]]\n",
            "\n"
          ],
          "name": "stdout"
        }
      ]
    },
    {
      "cell_type": "markdown",
      "metadata": {
        "id": "yZRpGYZmm8ZL",
        "colab_type": "text"
      },
      "source": [
        "##### In this case, adding weight performs better than SMOTE in overall. We use adding weight as the final model for basketball.\n",
        "\n",
        "From this point forward, we use the **whole data set** to get the 'region_point' column."
      ]
    },
    {
      "cell_type": "code",
      "metadata": {
        "id": "BEPePn2XgUsI",
        "colab_type": "code",
        "outputId": "444c32de-cd9c-4029-db5f-449bb8ea0dc8",
        "colab": {
          "base_uri": "https://localhost:8080/",
          "height": 136
        }
      },
      "source": [
        "data = pre_process.copy()\n",
        "\n",
        "for i in pre_process.region.unique():\n",
        "  country = pre_process.loc[pre_process[\"region\"] == i]\n",
        "  g = country.loc[country[\"Medal\"] == 3]\n",
        "  s = country.loc[country[\"Medal\"] == 2]\n",
        "  b = country.loc[country[\"Medal\"] == 1]\n",
        "  na = country.loc[country[\"Medal\"] == 0]\n",
        "\n",
        "  point = g.shape[0]*30 + s.shape[0]*20 + b.shape[0]*10\n",
        "  try:\n",
        "    point = point/(g.shape[0] + s.shape[0] + b.shape[0] + na.shape[0])\n",
        "  except ZeroDivisionError:\n",
        "    data.loc[data['region'] == i, 'region_point'] = 0\n",
        "    continue\n",
        "  data.loc[data['region'] == i, 'region_point'] = point\n",
        "data.head(3) #region_point of whole data set"
      ],
      "execution_count": 0,
      "outputs": [
        {
          "output_type": "execute_result",
          "data": {
            "text/html": [
              "<div>\n",
              "<style scoped>\n",
              "    .dataframe tbody tr th:only-of-type {\n",
              "        vertical-align: middle;\n",
              "    }\n",
              "\n",
              "    .dataframe tbody tr th {\n",
              "        vertical-align: top;\n",
              "    }\n",
              "\n",
              "    .dataframe thead th {\n",
              "        text-align: right;\n",
              "    }\n",
              "</style>\n",
              "<table border=\"1\" class=\"dataframe\">\n",
              "  <thead>\n",
              "    <tr style=\"text-align: right;\">\n",
              "      <th></th>\n",
              "      <th>Sex</th>\n",
              "      <th>Age</th>\n",
              "      <th>Height</th>\n",
              "      <th>Weight</th>\n",
              "      <th>Season</th>\n",
              "      <th>Sport</th>\n",
              "      <th>Medal</th>\n",
              "      <th>Year</th>\n",
              "      <th>region</th>\n",
              "      <th>region_point</th>\n",
              "    </tr>\n",
              "  </thead>\n",
              "  <tbody>\n",
              "    <tr>\n",
              "      <th>0</th>\n",
              "      <td>1</td>\n",
              "      <td>24.0</td>\n",
              "      <td>180.0</td>\n",
              "      <td>80.0</td>\n",
              "      <td>0</td>\n",
              "      <td>8</td>\n",
              "      <td>0</td>\n",
              "      <td>1992</td>\n",
              "      <td>China</td>\n",
              "      <td>3.508411</td>\n",
              "    </tr>\n",
              "    <tr>\n",
              "      <th>1</th>\n",
              "      <td>1</td>\n",
              "      <td>23.0</td>\n",
              "      <td>170.0</td>\n",
              "      <td>60.0</td>\n",
              "      <td>0</td>\n",
              "      <td>32</td>\n",
              "      <td>0</td>\n",
              "      <td>2012</td>\n",
              "      <td>China</td>\n",
              "      <td>3.508411</td>\n",
              "    </tr>\n",
              "    <tr>\n",
              "      <th>2</th>\n",
              "      <td>1</td>\n",
              "      <td>24.0</td>\n",
              "      <td>175.0</td>\n",
              "      <td>70.0</td>\n",
              "      <td>0</td>\n",
              "      <td>24</td>\n",
              "      <td>0</td>\n",
              "      <td>1920</td>\n",
              "      <td>Denmark</td>\n",
              "      <td>3.350140</td>\n",
              "    </tr>\n",
              "  </tbody>\n",
              "</table>\n",
              "</div>"
            ],
            "text/plain": [
              "   Sex   Age  Height  Weight  Season  Sport  Medal  Year   region  region_point\n",
              "0    1  24.0   180.0    80.0       0      8      0  1992    China      3.508411\n",
              "1    1  23.0   170.0    60.0       0     32      0  2012    China      3.508411\n",
              "2    1  24.0   175.0    70.0       0     24      0  1920  Denmark      3.350140"
            ]
          },
          "metadata": {
            "tags": []
          },
          "execution_count": 36
        }
      ]
    },
    {
      "cell_type": "code",
      "metadata": {
        "id": "klbBlCfLhC0L",
        "colab_type": "code",
        "outputId": "973122af-f5de-4869-806d-5982877df67b",
        "colab": {
          "base_uri": "https://localhost:8080/",
          "height": 136
        }
      },
      "source": [
        "pre_process.head(3) #region_point only using data before 2005"
      ],
      "execution_count": 0,
      "outputs": [
        {
          "output_type": "execute_result",
          "data": {
            "text/html": [
              "<div>\n",
              "<style scoped>\n",
              "    .dataframe tbody tr th:only-of-type {\n",
              "        vertical-align: middle;\n",
              "    }\n",
              "\n",
              "    .dataframe tbody tr th {\n",
              "        vertical-align: top;\n",
              "    }\n",
              "\n",
              "    .dataframe thead th {\n",
              "        text-align: right;\n",
              "    }\n",
              "</style>\n",
              "<table border=\"1\" class=\"dataframe\">\n",
              "  <thead>\n",
              "    <tr style=\"text-align: right;\">\n",
              "      <th></th>\n",
              "      <th>Sex</th>\n",
              "      <th>Age</th>\n",
              "      <th>Height</th>\n",
              "      <th>Weight</th>\n",
              "      <th>Season</th>\n",
              "      <th>Sport</th>\n",
              "      <th>Medal</th>\n",
              "      <th>Year</th>\n",
              "      <th>region</th>\n",
              "      <th>region_point</th>\n",
              "    </tr>\n",
              "  </thead>\n",
              "  <tbody>\n",
              "    <tr>\n",
              "      <th>0</th>\n",
              "      <td>1</td>\n",
              "      <td>24.0</td>\n",
              "      <td>180.0</td>\n",
              "      <td>80.0</td>\n",
              "      <td>0</td>\n",
              "      <td>8</td>\n",
              "      <td>0</td>\n",
              "      <td>1992</td>\n",
              "      <td>China</td>\n",
              "      <td>2.906946</td>\n",
              "    </tr>\n",
              "    <tr>\n",
              "      <th>1</th>\n",
              "      <td>1</td>\n",
              "      <td>23.0</td>\n",
              "      <td>170.0</td>\n",
              "      <td>60.0</td>\n",
              "      <td>0</td>\n",
              "      <td>32</td>\n",
              "      <td>0</td>\n",
              "      <td>2012</td>\n",
              "      <td>China</td>\n",
              "      <td>2.906946</td>\n",
              "    </tr>\n",
              "    <tr>\n",
              "      <th>2</th>\n",
              "      <td>1</td>\n",
              "      <td>24.0</td>\n",
              "      <td>175.0</td>\n",
              "      <td>70.0</td>\n",
              "      <td>0</td>\n",
              "      <td>24</td>\n",
              "      <td>0</td>\n",
              "      <td>1920</td>\n",
              "      <td>Denmark</td>\n",
              "      <td>3.352490</td>\n",
              "    </tr>\n",
              "  </tbody>\n",
              "</table>\n",
              "</div>"
            ],
            "text/plain": [
              "   Sex   Age  Height  Weight  Season  Sport  Medal  Year   region  region_point\n",
              "0    1  24.0   180.0    80.0       0      8      0  1992    China      2.906946\n",
              "1    1  23.0   170.0    60.0       0     32      0  2012    China      2.906946\n",
              "2    1  24.0   175.0    70.0       0     24      0  1920  Denmark      3.352490"
            ]
          },
          "metadata": {
            "tags": []
          },
          "execution_count": 37
        }
      ]
    },
    {
      "cell_type": "code",
      "metadata": {
        "id": "9GIYQ7FvnHap",
        "colab_type": "code",
        "outputId": "1fa68cc3-e000-44a2-d369-9360ac34ae6a",
        "colab": {
          "base_uri": "https://localhost:8080/",
          "height": 212
        }
      },
      "source": [
        "basketball_data = data.loc[data[\"Sport\"] == 8]\n",
        "X, y = basketball_data[[\"Age\", \"Height\", \"Weight\", \"region_point\"]], basketball_data[\"Medal\"]\n",
        "model0 = RandomForestClassifier(random_state = state, class_weight=add_w(y))\n",
        "model0.fit(X, y)\n",
        "basketball_data.head()"
      ],
      "execution_count": 0,
      "outputs": [
        {
          "output_type": "stream",
          "text": [
            "class_weight =  {0: 0.3283517121300058, 1: 3.178370786516854, 2: 3.151810584958217, 3: 3.1}\n"
          ],
          "name": "stdout"
        },
        {
          "output_type": "execute_result",
          "data": {
            "text/html": [
              "<div>\n",
              "<style scoped>\n",
              "    .dataframe tbody tr th:only-of-type {\n",
              "        vertical-align: middle;\n",
              "    }\n",
              "\n",
              "    .dataframe tbody tr th {\n",
              "        vertical-align: top;\n",
              "    }\n",
              "\n",
              "    .dataframe thead th {\n",
              "        text-align: right;\n",
              "    }\n",
              "</style>\n",
              "<table border=\"1\" class=\"dataframe\">\n",
              "  <thead>\n",
              "    <tr style=\"text-align: right;\">\n",
              "      <th></th>\n",
              "      <th>Sex</th>\n",
              "      <th>Age</th>\n",
              "      <th>Height</th>\n",
              "      <th>Weight</th>\n",
              "      <th>Season</th>\n",
              "      <th>Sport</th>\n",
              "      <th>Medal</th>\n",
              "      <th>Year</th>\n",
              "      <th>region</th>\n",
              "      <th>region_point</th>\n",
              "    </tr>\n",
              "  </thead>\n",
              "  <tbody>\n",
              "    <tr>\n",
              "      <th>0</th>\n",
              "      <td>1</td>\n",
              "      <td>24.0</td>\n",
              "      <td>180.0</td>\n",
              "      <td>80.0</td>\n",
              "      <td>0</td>\n",
              "      <td>8</td>\n",
              "      <td>0</td>\n",
              "      <td>1992</td>\n",
              "      <td>China</td>\n",
              "      <td>3.508411</td>\n",
              "    </tr>\n",
              "    <tr>\n",
              "      <th>167</th>\n",
              "      <td>0</td>\n",
              "      <td>19.0</td>\n",
              "      <td>185.0</td>\n",
              "      <td>72.0</td>\n",
              "      <td>0</td>\n",
              "      <td>8</td>\n",
              "      <td>0</td>\n",
              "      <td>2008</td>\n",
              "      <td>Spain</td>\n",
              "      <td>1.791831</td>\n",
              "    </tr>\n",
              "    <tr>\n",
              "      <th>250</th>\n",
              "      <td>1</td>\n",
              "      <td>31.0</td>\n",
              "      <td>175.0</td>\n",
              "      <td>70.0</td>\n",
              "      <td>0</td>\n",
              "      <td>8</td>\n",
              "      <td>0</td>\n",
              "      <td>1952</td>\n",
              "      <td>Egypt</td>\n",
              "      <td>0.302096</td>\n",
              "    </tr>\n",
              "    <tr>\n",
              "      <th>264</th>\n",
              "      <td>1</td>\n",
              "      <td>29.0</td>\n",
              "      <td>195.0</td>\n",
              "      <td>85.0</td>\n",
              "      <td>0</td>\n",
              "      <td>8</td>\n",
              "      <td>0</td>\n",
              "      <td>2000</td>\n",
              "      <td>Italy</td>\n",
              "      <td>3.096594</td>\n",
              "    </tr>\n",
              "    <tr>\n",
              "      <th>346</th>\n",
              "      <td>1</td>\n",
              "      <td>25.0</td>\n",
              "      <td>189.0</td>\n",
              "      <td>85.0</td>\n",
              "      <td>0</td>\n",
              "      <td>8</td>\n",
              "      <td>0</td>\n",
              "      <td>1972</td>\n",
              "      <td>Egypt</td>\n",
              "      <td>0.302096</td>\n",
              "    </tr>\n",
              "  </tbody>\n",
              "</table>\n",
              "</div>"
            ],
            "text/plain": [
              "     Sex   Age  Height  Weight  Season  Sport  Medal  Year region  region_point\n",
              "0      1  24.0   180.0    80.0       0      8      0  1992  China      3.508411\n",
              "167    0  19.0   185.0    72.0       0      8      0  2008  Spain      1.791831\n",
              "250    1  31.0   175.0    70.0       0      8      0  1952  Egypt      0.302096\n",
              "264    1  29.0   195.0    85.0       0      8      0  2000  Italy      3.096594\n",
              "346    1  25.0   189.0    85.0       0      8      0  1972  Egypt      0.302096"
            ]
          },
          "metadata": {
            "tags": []
          },
          "execution_count": 38
        }
      ]
    },
    {
      "cell_type": "code",
      "metadata": {
        "id": "4B2lHsDBnJYF",
        "colab_type": "code",
        "outputId": "9e674dfc-f566-4a99-8582-a50c429d64c1",
        "colab": {
          "base_uri": "https://localhost:8080/",
          "height": 34
        }
      },
      "source": [
        "#[age, weight, height, region_point]\n",
        "athlet_characteristics = [[22, 180, 90, 10],[32, 180, 150, 7.5],[20, 200, 120, 8],[30, 195, 100.5, 6], [24, 185, 80, 7.5]] \n",
        "model0.predict(athlet_characteristics)"
      ],
      "execution_count": 0,
      "outputs": [
        {
          "output_type": "execute_result",
          "data": {
            "text/plain": [
              "array([2, 0, 3, 3, 1])"
            ]
          },
          "metadata": {
            "tags": []
          },
          "execution_count": 59
        }
      ]
    },
    {
      "cell_type": "code",
      "metadata": {
        "id": "maPcO8vonZtI",
        "colab_type": "code",
        "colab": {}
      },
      "source": [
        "def print_out(inp, outp):\n",
        "  count = 0\n",
        "  for i in outp:\n",
        "    print(\"Age %d | Height %4.1f (m)| Weight %.1f (kg) | Region_encode %.2f \\t |\"% (inp[count][0],inp[count][1], inp[count][2], inp[count][3]), end=\"\\t \")\n",
        "    if(i == 0):\n",
        "      print(\"No medal\")\n",
        "    elif(i == 1):\n",
        "      print(\"Bronze\")\n",
        "    elif(i == 2):\n",
        "      print(\"Silver\")\n",
        "    elif(i == 3):\n",
        "      print(\"Gold\")\n",
        "    count += 1\n"
      ],
      "execution_count": 0,
      "outputs": []
    },
    {
      "cell_type": "code",
      "metadata": {
        "id": "qe9vX2WdoQbK",
        "colab_type": "code",
        "outputId": "44a82b06-ef1b-4e55-9633-576b26659eb7",
        "colab": {
          "base_uri": "https://localhost:8080/",
          "height": 134
        }
      },
      "source": [
        "print(\"Basketball Medal Prediction: \\n\")\n",
        "print_out(athlet_characteristics, model0.predict(athlet_characteristics))"
      ],
      "execution_count": 0,
      "outputs": [
        {
          "output_type": "stream",
          "text": [
            "Basketball Medal Prediction: \n",
            "\n",
            "Age 22 | Height 180.0 (m)| Weight 90.0 (kg) | Region_encode 10.00 \t |\t Silver\n",
            "Age 32 | Height 180.0 (m)| Weight 150.0 (kg) | Region_encode 7.50 \t |\t No medal\n",
            "Age 20 | Height 200.0 (m)| Weight 120.0 (kg) | Region_encode 8.00 \t |\t Gold\n",
            "Age 30 | Height 195.0 (m)| Weight 100.5 (kg) | Region_encode 6.00 \t |\t Gold\n",
            "Age 24 | Height 185.0 (m)| Weight 80.0 (kg) | Region_encode 7.50 \t |\t Bronze\n"
          ],
          "name": "stdout"
        }
      ]
    },
    {
      "cell_type": "markdown",
      "metadata": {
        "id": "cyRaAyBRpaC2",
        "colab_type": "text"
      },
      "source": [
        "For other different sports, we have to train them individually & observe which model & technique giving the best result. \n",
        "\n",
        "**Different data set has different best way to solve**"
      ]
    }
  ]
}